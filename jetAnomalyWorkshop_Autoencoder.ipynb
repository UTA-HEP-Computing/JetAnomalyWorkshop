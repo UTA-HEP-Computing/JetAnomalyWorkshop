{
 "cells": [
  {
   "cell_type": "markdown",
   "metadata": {},
   "source": [
    "### Required imports"
   ]
  },
  {
   "cell_type": "code",
   "execution_count": 1,
   "metadata": {},
   "outputs": [
    {
     "name": "stderr",
     "output_type": "stream",
     "text": [
      "Using TensorFlow backend.\n"
     ]
    }
   ],
   "source": [
    "import numpy as np\n",
    "import os\n",
    "os.environ[\"KERAS_BACKEND\"] = \"tensorflow\"\n",
    "import h5py\n",
    "import pickle\n",
    "import pandas\n",
    "import matplotlib.pyplot as plt\n",
    "import deepdish.io as io\n",
    "import tensorflow as tf\n",
    "from keras.models import Model\n",
    "from keras.layers import Input, Dense, Dropout\n",
    "from keras.utils import plot_model"
   ]
  },
  {
   "cell_type": "code",
   "execution_count": 2,
   "metadata": {},
   "outputs": [
    {
     "data": {
      "text/plain": [
       "'1.14.0'"
      ]
     },
     "execution_count": 2,
     "metadata": {},
     "output_type": "execute_result"
    }
   ],
   "source": [
    "tf.__version__"
   ]
  },
  {
   "cell_type": "code",
   "execution_count": 3,
   "metadata": {
    "collapsed": true
   },
   "outputs": [],
   "source": [
    "from sklearn.preprocessing import scale, normalize\n",
    "from sklearn.preprocessing import RobustScaler, StandardScaler"
   ]
  },
  {
   "cell_type": "markdown",
   "metadata": {},
   "source": [
    "### Loading dataset for training"
   ]
  },
  {
   "cell_type": "code",
   "execution_count": 4,
   "metadata": {
    "collapsed": true
   },
   "outputs": [],
   "source": [
    "def load_data(filename, len_input=80):\n",
    "    \n",
    "    f_train=h5py.File(filename,'r')\n",
    "   \n",
    "    x_train=f_train['table']\n",
    "\n",
    "    x_train.shape\n",
    "\n",
    "    x_train=x_train[:,:len_input]\n",
    "\n",
    "    scaler=RobustScaler().fit(x_train)\n",
    "\n",
    "    x_train=scaler.transform(x_train)\n",
    "    \n",
    "    f_train.close()\n",
    "    return x_train"
   ]
  },
  {
   "cell_type": "code",
   "execution_count": 5,
   "metadata": {
    "collapsed": true
   },
   "outputs": [],
   "source": [
    "x_train=load_data('/data/debo/anomalyDelphes/AE_train_qcd_preprocessed.h5', 80)"
   ]
  },
  {
   "cell_type": "markdown",
   "metadata": {},
   "source": [
    "### Building AutoEncoder (AE) model"
   ]
  },
  {
   "cell_type": "code",
   "execution_count": 6,
   "metadata": {},
   "outputs": [
    {
     "name": "stderr",
     "output_type": "stream",
     "text": [
      "WARNING: Logging before flag parsing goes to stderr.\n",
      "W1108 10:33:58.337197 140275273684736 deprecation_wrapper.py:119] From /home/debo/env_autoencoder/local/lib/python2.7/site-packages/keras/backend/tensorflow_backend.py:74: The name tf.get_default_graph is deprecated. Please use tf.compat.v1.get_default_graph instead.\n",
      "\n",
      "W1108 10:33:58.372360 140275273684736 deprecation_wrapper.py:119] From /home/debo/env_autoencoder/local/lib/python2.7/site-packages/keras/backend/tensorflow_backend.py:517: The name tf.placeholder is deprecated. Please use tf.compat.v1.placeholder instead.\n",
      "\n",
      "W1108 10:33:58.380259 140275273684736 deprecation_wrapper.py:119] From /home/debo/env_autoencoder/local/lib/python2.7/site-packages/keras/backend/tensorflow_backend.py:4138: The name tf.random_uniform is deprecated. Please use tf.random.uniform instead.\n",
      "\n",
      "W1108 10:33:58.535412 140275273684736 deprecation_wrapper.py:119] From /home/debo/env_autoencoder/local/lib/python2.7/site-packages/keras/optimizers.py:790: The name tf.train.Optimizer is deprecated. Please use tf.compat.v1.train.Optimizer instead.\n",
      "\n",
      "W1108 10:33:58.563373 140275273684736 deprecation_wrapper.py:119] From /home/debo/env_autoencoder/local/lib/python2.7/site-packages/keras/backend/tensorflow_backend.py:1521: The name tf.log is deprecated. Please use tf.math.log instead.\n",
      "\n"
     ]
    }
   ],
   "source": [
    "input_dim=x_train.shape[1]\n",
    "\n",
    "input_vec = Input(shape =(input_dim,))\n",
    "\n",
    "encoded = Dense(256, activation='relu')(input_vec)\n",
    "encoded = Dense(128, activation='relu')(encoded)\n",
    "encoded = Dense(64, activation='relu')(encoded)\n",
    "encoded = Dense(6, activation='relu')(encoded)\n",
    "\n",
    "decoded = Dense(64, activation='relu')(encoded)\n",
    "decoded = Dense(128, activation='relu')(decoded)\n",
    "decoded = Dense(256, activation='relu')(decoded)\n",
    "decoded = Dense(input_dim, activation='softmax')(decoded)\n",
    "\n",
    "autoencoder=Model(input_vec, decoded)\n",
    "\n",
    "\n",
    "autoencoder.compile(optimizer=\"adam\",\n",
    "                    loss=\"kullback_leibler_divergence\") \n",
    "                    "
   ]
  },
  {
   "cell_type": "markdown",
   "metadata": {},
   "source": [
    "### Training"
   ]
  },
  {
   "cell_type": "code",
   "execution_count": 7,
   "metadata": {},
   "outputs": [
    {
     "name": "stderr",
     "output_type": "stream",
     "text": [
      "W1108 10:34:22.995436 140275273684736 deprecation.py:323] From /home/debo/env_autoencoder/local/lib/python2.7/site-packages/tensorflow/python/ops/math_grad.py:1250: where (from tensorflow.python.ops.array_ops) is deprecated and will be removed in a future version.\n",
      "Instructions for updating:\n",
      "Use tf.where in 2.0, which has the same broadcast rule as np.where\n",
      "W1108 10:34:23.064305 140275273684736 deprecation_wrapper.py:119] From /home/debo/env_autoencoder/local/lib/python2.7/site-packages/keras/backend/tensorflow_backend.py:986: The name tf.assign_add is deprecated. Please use tf.compat.v1.assign_add instead.\n",
      "\n"
     ]
    },
    {
     "name": "stdout",
     "output_type": "stream",
     "text": [
      "Train on 480058 samples, validate on 120015 samples\n",
      "Epoch 1/100\n",
      "480058/480058 [==============================] - 22s 46us/step - loss: 78.7529 - val_loss: 78.2023\n",
      "Epoch 2/100\n",
      "480058/480058 [==============================] - 22s 46us/step - loss: 78.0313 - val_loss: 77.8679\n",
      "Epoch 3/100\n",
      "480058/480058 [==============================] - 23s 47us/step - loss: 77.7703 - val_loss: 77.6741\n",
      "Epoch 4/100\n",
      "480058/480058 [==============================] - 23s 47us/step - loss: 77.6110 - val_loss: 77.5908\n",
      "Epoch 5/100\n",
      "480058/480058 [==============================] - 23s 47us/step - loss: 77.5064 - val_loss: 77.4763\n",
      "Epoch 6/100\n",
      "480058/480058 [==============================] - 23s 48us/step - loss: 77.4356 - val_loss: 77.4206\n",
      "Epoch 7/100\n",
      "480058/480058 [==============================] - 23s 47us/step - loss: 77.4150 - val_loss: 77.4055\n",
      "Epoch 8/100\n",
      "480058/480058 [==============================] - 23s 47us/step - loss: 77.3401 - val_loss: 77.3370\n",
      "Epoch 9/100\n",
      "480058/480058 [==============================] - 23s 47us/step - loss: 77.3281 - val_loss: 77.2955\n",
      "Epoch 10/100\n",
      "480058/480058 [==============================] - 23s 47us/step - loss: 77.2752 - val_loss: 77.2543\n",
      "Epoch 11/100\n",
      "480058/480058 [==============================] - 22s 47us/step - loss: 77.2525 - val_loss: 77.2344\n",
      "Epoch 12/100\n",
      "480058/480058 [==============================] - 22s 47us/step - loss: 77.2364 - val_loss: 77.2506\n",
      "Epoch 13/100\n",
      "480058/480058 [==============================] - 23s 47us/step - loss: 77.2651 - val_loss: 77.2797\n",
      "Epoch 14/100\n",
      "480058/480058 [==============================] - 22s 47us/step - loss: 77.2810 - val_loss: 77.2753\n",
      "Epoch 15/100\n",
      "480058/480058 [==============================] - 23s 47us/step - loss: 77.2222 - val_loss: 77.1856\n",
      "Epoch 16/100\n",
      "480058/480058 [==============================] - 23s 47us/step - loss: 77.1737 - val_loss: 77.1754\n",
      "Epoch 17/100\n",
      "480058/480058 [==============================] - 23s 47us/step - loss: 77.1952 - val_loss: 77.1864\n",
      "Epoch 18/100\n",
      "480058/480058 [==============================] - 23s 47us/step - loss: 77.1946 - val_loss: 77.1874\n",
      "Epoch 19/100\n",
      "480058/480058 [==============================] - 23s 47us/step - loss: 77.2040 - val_loss: 77.1773\n",
      "Epoch 20/100\n",
      "480058/480058 [==============================] - 22s 47us/step - loss: 77.2066 - val_loss: 77.2414\n",
      "Epoch 21/100\n",
      "480058/480058 [==============================] - 23s 47us/step - loss: 77.1674 - val_loss: 77.1745\n",
      "Epoch 22/100\n",
      "480058/480058 [==============================] - 23s 47us/step - loss: 77.1565 - val_loss: 77.1644\n",
      "Epoch 23/100\n",
      "480058/480058 [==============================] - 23s 47us/step - loss: 77.2029 - val_loss: 77.1997\n",
      "Epoch 24/100\n",
      "480058/480058 [==============================] - 23s 47us/step - loss: 77.1879 - val_loss: 77.2150\n",
      "Epoch 25/100\n",
      "480058/480058 [==============================] - 23s 47us/step - loss: 77.2050 - val_loss: 77.2006\n",
      "Epoch 26/100\n",
      "480058/480058 [==============================] - 21s 44us/step - loss: 77.1793 - val_loss: 77.1768\n",
      "Epoch 27/100\n",
      "480058/480058 [==============================] - 21s 44us/step - loss: 77.2523 - val_loss: 77.2568\n",
      "Epoch 28/100\n",
      "480058/480058 [==============================] - 21s 43us/step - loss: 77.3406 - val_loss: 77.3350\n",
      "Epoch 29/100\n",
      "480058/480058 [==============================] - 21s 43us/step - loss: 77.2702 - val_loss: 77.2784\n",
      "Epoch 30/100\n",
      "480058/480058 [==============================] - 21s 44us/step - loss: 77.2386 - val_loss: 77.2128\n"
     ]
    }
   ],
   "source": [
    "\n",
    "from keras.callbacks import EarlyStopping\n",
    "\n",
    "\n",
    "early_stopping = EarlyStopping(monitor='val_loss', min_delta=0.0005, patience=8)\n",
    "\n",
    "history=autoencoder.fit(x_train, x_train, epochs=100,\n",
    "               batch_size=128,\n",
    "               shuffle='batch',\n",
    "               validation_split=0.2,\n",
    "               callbacks=[early_stopping])"
   ]
  },
  {
   "cell_type": "code",
   "execution_count": 9,
   "metadata": {},
   "outputs": [
    {
     "data": {
      "image/png": "[encoded data removed]",
      "text/plain": [
       "<Figure size 432x288 with 1 Axes>"
      ]
     },
     "metadata": {
      "needs_background": "light"
     },
     "output_type": "display_data"
    }
   ],
   "source": [
    "plt.plot(history.history['val_loss'], label='validation')\n",
    "plt.plot(history.history['loss'], label='train')\n",
    "plt.title('AutoEncoder ($D_{in}$=80, $D_{hidden}$=6)')\n",
    "plt.xlabel('epoch')\n",
    "plt.legend(loc='upper right')\n",
    "plt.show()"
   ]
  },
  {
   "cell_type": "code",
   "execution_count": 11,
   "metadata": {},
   "outputs": [],
   "source": [
    "autoencoder.save('/data/debo/anomalyDelphes/AE-model-d80.h5')"
   ]
  },
  {
   "cell_type": "markdown",
   "metadata": {},
   "source": [
    "### Some more imports"
   ]
  },
  {
   "cell_type": "code",
   "execution_count": 12,
   "metadata": {
    "collapsed": true
   },
   "outputs": [],
   "source": [
    "from keras.models import load_model\n",
    "from sklearn.metrics import mutual_info_score\n",
    "from sklearn.utils import check_random_state\n",
    "from sklearn.preprocessing import StandardScaler, RobustScaler\n",
    "\n",
    "from keras.losses import kullback_leibler_divergence, mean_squared_error, cosine"
   ]
  },
  {
   "cell_type": "markdown",
   "metadata": {},
   "source": [
    "### Load training data and obtain the scaler fit"
   ]
  },
  {
   "cell_type": "code",
   "execution_count": 13,
   "metadata": {
    "collapsed": true
   },
   "outputs": [],
   "source": [
    "f_train=h5py.File('/data/debo/anomalyDelphes/AE_train_qcd_preprocessed.h5','r')\n",
    "x_train=f_train['table']\n",
    "len_input = 80\n",
    "scaler=RobustScaler().fit(x_train[:10000, :len_input])\n",
    "f_train.close()"
   ]
  },
  {
   "cell_type": "markdown",
   "metadata": {},
   "source": [
    "### Load preprocessed test data"
   ]
  },
  {
   "cell_type": "code",
   "execution_count": 14,
   "metadata": {
    "collapsed": true
   },
   "outputs": [],
   "source": [
    "f_test_0=h5py.File('/data/debo/anomalyDelphes/AE_test_qcd_preprocessed.h5','r')\n",
    "f_test_1=h5py.File('/data/debo/anomalyDelphes/AE_test_top_preprocessed.h5','r')\n",
    "x_test_0=f_test_0['table']\n",
    "x_test_1=f_test_1['table']\n",
    "\n",
    "x_test=np.concatenate((x_test_0, x_test_1), axis=0)\n",
    "y_test=np.concatenate((np.zeros(len(x_test_0)), np.ones(len(x_test_1))), axis=0)\n",
    "\n",
    "rng = check_random_state(1)\n",
    "indices = rng.permutation(len(x_test))\n",
    "\n",
    "x_test_mix = [x_test[j] for j in indices[:100000]]\n",
    "y_test_mix = [y_test[j] for j in indices[:100000]]\n",
    "f_test_0.close()\n",
    "f_test_1.close()"
   ]
  },
  {
   "cell_type": "code",
   "execution_count": 15,
   "metadata": {
    "collapsed": true
   },
   "outputs": [],
   "source": [
    "x_test_mix=np.array(x_test_mix)\n",
    "y_test_mix=np.array(y_test_mix)"
   ]
  },
  {
   "cell_type": "markdown",
   "metadata": {},
   "source": [
    "### Load the model"
   ]
  },
  {
   "cell_type": "code",
   "execution_count": 18,
   "metadata": {},
   "outputs": [],
   "source": [
    "autoencoder=load_model('/data/debo/anomalyDelphes/AE-model-d80.h5')"
   ]
  },
  {
   "cell_type": "code",
   "execution_count": 19,
   "metadata": {
    "collapsed": true
   },
   "outputs": [],
   "source": [
    "x_test_mix=scaler.transform(x_test_mix[:,:len_input])"
   ]
  },
  {
   "cell_type": "markdown",
   "metadata": {},
   "source": [
    "### Predict output and calculate mse_loss"
   ]
  },
  {
   "cell_type": "code",
   "execution_count": 20,
   "metadata": {
    "collapsed": true
   },
   "outputs": [],
   "source": [
    "predict_jets=autoencoder.predict(x_test_mix)"
   ]
  },
  {
   "cell_type": "code",
   "execution_count": 21,
   "metadata": {
    "collapsed": true
   },
   "outputs": [],
   "source": [
    "predict_loss_mse= np.mean(np.power(x_test_mix - predict_jets, 2), axis=1)"
   ]
  },
  {
   "cell_type": "code",
   "execution_count": 22,
   "metadata": {
    "collapsed": true
   },
   "outputs": [],
   "source": [
    "predict_loss=predict_loss_mse"
   ]
  },
  {
   "cell_type": "markdown",
   "metadata": {},
   "source": [
    "### Add scaling for predict_loss, not mandatory"
   ]
  },
  {
   "cell_type": "code",
   "execution_count": 23,
   "metadata": {
    "collapsed": true
   },
   "outputs": [],
   "source": [
    "tf_loss=StandardScaler().fit(predict_loss.reshape(-1,1))\n",
    "predict_loss=tf_loss.transform(predict_loss.reshape(-1,1))"
   ]
  },
  {
   "cell_type": "code",
   "execution_count": 24,
   "metadata": {},
   "outputs": [
    {
     "data": {
      "text/plain": [
       "(array([8.9750e+03, 1.6723e+04, 7.6350e+03, 4.2540e+03, 3.3880e+03,\n",
       "        3.4280e+03, 4.0540e+03, 4.9590e+03, 5.8430e+03, 6.2410e+03,\n",
       "        6.1870e+03, 5.8010e+03, 4.8710e+03, 4.1140e+03, 3.3860e+03,\n",
       "        2.4810e+03, 1.9350e+03, 1.4700e+03, 1.0700e+03, 7.4900e+02,\n",
       "        6.0900e+02, 4.2300e+02, 3.3300e+02, 2.3000e+02, 1.8800e+02,\n",
       "        1.2900e+02, 1.1300e+02, 8.2000e+01, 5.8000e+01, 6.2000e+01,\n",
       "        4.8000e+01, 2.6000e+01, 3.3000e+01, 2.3000e+01, 1.4000e+01,\n",
       "        1.8000e+01, 1.7000e+01, 8.0000e+00, 2.0000e+00, 2.0000e+00,\n",
       "        5.0000e+00, 1.0000e+00, 3.0000e+00, 1.0000e+00, 4.0000e+00,\n",
       "        1.0000e+00, 0.0000e+00, 1.0000e+00, 0.0000e+00, 2.0000e+00]),\n",
       " array([-1.30785883, -1.13496982, -0.96208081, -0.7891918 , -0.61630279,\n",
       "        -0.44341378, -0.27052477, -0.09763576,  0.07525325,  0.24814226,\n",
       "         0.42103127,  0.59392028,  0.76680929,  0.9396983 ,  1.11258731,\n",
       "         1.28547632,  1.45836533,  1.63125434,  1.80414335,  1.97703236,\n",
       "         2.14992137,  2.32281038,  2.49569939,  2.6685884 ,  2.84147741,\n",
       "         3.01436643,  3.18725544,  3.36014445,  3.53303346,  3.70592247,\n",
       "         3.87881148,  4.05170049,  4.2245895 ,  4.39747851,  4.57036752,\n",
       "         4.74325653,  4.91614554,  5.08903455,  5.26192356,  5.43481257,\n",
       "         5.60770158,  5.78059059,  5.9534796 ,  6.12636861,  6.29925762,\n",
       "         6.47214663,  6.64503564,  6.81792465,  6.99081366,  7.16370267,\n",
       "         7.33659168]),\n",
       " <a list of 50 Patch objects>)"
      ]
     },
     "execution_count": 24,
     "metadata": {},
     "output_type": "execute_result"
    },
    {
     "data": {
      "image/png": "[encoded data removed]",
      "text/plain": [
       "<Figure size 432x288 with 1 Axes>"
      ]
     },
     "metadata": {
      "needs_background": "light"
     },
     "output_type": "display_data"
    }
   ],
   "source": [
    "plt.hist(predict_loss, bins=50)"
   ]
  },
  {
   "cell_type": "markdown",
   "metadata": {},
   "source": [
    "### Using mse_losses to separate QCD and Tops"
   ]
  },
  {
   "cell_type": "code",
   "execution_count": 25,
   "metadata": {},
   "outputs": [
    {
     "data": {
      "image/png": "[encoded data removed]",
      "text/plain": [
       "<Figure size 432x288 with 1 Axes>"
      ]
     },
     "metadata": {
      "needs_background": "light"
     },
     "output_type": "display_data"
    }
   ],
   "source": [
    "l_rec_0=[]\n",
    "l_rec_1=[]\n",
    "\n",
    "for i in range(10000):\n",
    "    if y_test_mix[i]==0:\n",
    "        l_rec_0.append(predict_loss[i])\n",
    "    else:\n",
    "        l_rec_1.append(predict_loss[i])\n",
    "\n",
    "l_rec_0=np.array(l_rec_0)\n",
    "l_rec_1=np.array(l_rec_1)\n",
    "plt.hist(l_rec_0, histtype=\"step\", label='QCD')\n",
    "plt.hist(l_rec_1, histtype='step', label='Top')\n",
    "plt.legend(loc='best')\n",
    "plt.title('FCN AutoEncoder ($D_{in}$=80, $D_{hidden}$=6)')\n",
    "plt.xlabel('$L_{rec}$ (scaled)')\n",
    "plt.show()"
   ]
  },
  {
   "cell_type": "code",
   "execution_count": 27,
   "metadata": {
    "scrolled": true
   },
   "outputs": [
    {
     "name": "stderr",
     "output_type": "stream",
     "text": [
      "/home/debo/env_autoencoder/lib/python2.7/site-packages/ipykernel_launcher.py:7: RuntimeWarning: divide by zero encountered in divide\n",
      "  import sys\n",
      "W1108 11:06:59.912214 140275273684736 legend.py:1383] No handles with labels found to put in legend.\n"
     ]
    },
    {
     "name": "stdout",
     "output_type": "stream",
     "text": [
      "('roc_auc =', 0.9202455680935037)\n"
     ]
    },
    {
     "data": {
      "image/png": "[encoded data removed]",
      "text/plain": [
       "<Figure size 432x288 with 1 Axes>"
      ]
     },
     "metadata": {
      "needs_background": "light"
     },
     "output_type": "display_data"
    }
   ],
   "source": [
    "from sklearn.metrics import roc_curve\n",
    "from sklearn.metrics import roc_auc_score\n",
    "\n",
    "fpr, tpr, thrs = roc_curve(y_test_mix, predict_loss)\n",
    "print(\"roc_auc =\", roc_auc_score(y_test_mix, predict_loss))\n",
    "#plt.plot(fpr, tpr, label=\"%s\" % filename)\n",
    "plt.plot(tpr, 1. / fpr, label=\"\")\n",
    "\n",
    "plt.xlim(0.1, 1.0)\n",
    "plt.ylim(1, 500)\n",
    "plt.yscale(\"log\")\n",
    "plt.title('FCN AutoEncoder ($D_{in}$=80, $D_{hidden}$=6)')\n",
    "plt.grid()\n",
    "plt.xlabel(\"$\\epsilon_S$\")\n",
    "plt.ylabel(\"$1/\\epsilon_B$\")\n",
    "plt.legend(loc=\"best\")\n",
    "plt.show()"
   ]
  },
  {
   "cell_type": "code",
   "execution_count": 49,
   "metadata": {},
   "outputs": [
    {
     "name": "stdout",
     "output_type": "stream",
     "text": [
      "roc_auc = 0.9908453656406427\n"
     ]
    }
   ],
   "source": [
    "print \"roc_auc =\", auc(fpr, tpr)"
   ]
  },
  {
   "cell_type": "code",
   "execution_count": null,
   "metadata": {
    "collapsed": true
   },
   "outputs": [],
   "source": []
  }
 ],
 "metadata": {
  "kernelspec": {
   "display_name": "env_autoencoder",
   "language": "python",
   "name": "env_autoencoder"
  },
  "language_info": {
   "codemirror_mode": {
    "name": "ipython",
    "version": 2
   },
   "file_extension": ".py",
   "mimetype": "text/x-python",
   "name": "python",
   "nbconvert_exporter": "python",
   "pygments_lexer": "ipython2",
   "version": "2.7.12"
  }
 },
 "nbformat": 4,
 "nbformat_minor": 2
}
